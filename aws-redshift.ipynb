{
 "cells": [
  {
   "cell_type": "code",
   "execution_count": null,
   "id": "78d421c4",
   "metadata": {},
   "outputs": [],
   "source": [
    "import boto3\n",
    "import pandas as pd\n",
    "import psycopg2\n",
    "import json"
   ]
  },
  {
   "cell_type": "code",
   "execution_count": null,
   "id": "cbc5d4a4",
   "metadata": {},
   "outputs": [],
   "source": [
    "import configparser\n",
    "config = configparser.ConfigParser()\n",
    "config.read_file(open('cluster.config'))"
   ]
  },
  {
   "cell_type": "code",
   "execution_count": null,
   "id": "11785285",
   "metadata": {},
   "outputs": [],
   "source": [
    "KEY = config.get('AWS','KEY')\n",
    "SECRET = config.get('AWS','SECRET')\n",
    "\n",
    "DWH_CLUSTER_TYPE = config.get('DWH','DWH_CLUSTER_TYPE')\n",
    "DWH_NUM_NODES = config.get('DWH','DWH_NUM_NODES')\n",
    "DWH_NODE_TYPE = config.get('DWH','DWH_NODE_TYPE')\n",
    "DWH_CLUSTER_IDENTIFIER = config.get('DWH','DWH_CLUSTER_IDENTIFIER')\n",
    "DWH_DB = config.get('DWH','DWH_DB')\n",
    "DWH_DB_USER = config.get('DWH','DWH_DB_USER')\n",
    "DWH_DB_PASSWORD = config.get('DWH','DWH_DB_PASSWORD')\n",
    "DWH_DB_PORT = config.get('DWH','DWH_DB_PORT')\n",
    "DWH_IAM_ROLE_NAME = config.get('DWH','DWH_IAM_ROLE_NAME')\n",
    "\n",
    "(DWH_DB, DWH_DB_USER, DWH_DB_PASSWORD)"
   ]
  },
  {
   "cell_type": "code",
   "execution_count": null,
   "id": "42890fd5",
   "metadata": {},
   "outputs": [],
   "source": [
    "pd.DataFrame({\"Param\": [\"DWH_CLUSTER_TYPE\",\"DWH_NUM_NODES\",\"DWH_NODE_TYPE\",\"DWH_CLUSTER_IDENTIFIER\",\"DWH_DB\",\"DWH_DB_USER\",\"DWH_DB_PASSWORD\",\"DWH_DB_PORT\",\"DWH_IAM_ROLE_NAME\"],\n",
    "             \"Value\": [DWH_CLUSTER_TYPE,DWH_NUM_NODES,DWH_NODE_TYPE,DWH_CLUSTER_IDENTIFIER,DWH_DB,DWH_DB_USER,DWH_DB_PASSWORD,DWH_DB_PORT,DWH_IAM_ROLE_NAME]})"
   ]
  },
  {
   "cell_type": "code",
   "execution_count": null,
   "id": "b4b9a5ed",
   "metadata": {},
   "outputs": [],
   "source": [
    "ec2 = boto3.resource('ec2',\n",
    "                 region_name=\"ap-south-1\",\n",
    "                 aws_access_key_id=KEY,\n",
    "                 aws_secret_access_key=SECRET)\n",
    "s3 = boto3.resource('s3',\n",
    "                 region_name=\"ap-south-1\",\n",
    "                 aws_access_key_id=KEY,\n",
    "                 aws_secret_access_key=SECRET)\n",
    "iam = boto3.client('iam',\n",
    "                 region_name=\"ap-south-1\",\n",
    "                 aws_access_key_id=KEY,\n",
    "                 aws_secret_access_key=SECRET)\n",
    "redshift = boto3.client('redshift',\n",
    "                 region_name=\"ap-south-1\",\n",
    "                 aws_access_key_id=KEY,\n",
    "                 aws_secret_access_key=SECRET)"
   ]
  },
  {
   "cell_type": "code",
   "execution_count": null,
   "id": "74ffe254",
   "metadata": {},
   "outputs": [],
   "source": [
    "bucket=s3.Bucket(\"dexter-redshift\")\n",
    "log_data_files = [filename.key for filename in bucket.objects.filter(Prefix='')]\n",
    "log_data_files"
   ]
  },
  {
   "cell_type": "code",
   "execution_count": null,
   "id": "3eaf1a9b",
   "metadata": {},
   "outputs": [],
   "source": [
    "roleArn = iam.get_role(RoleName=DWH_IAM_ROLE_NAME)['Role']['Arn']"
   ]
  },
  {
   "cell_type": "code",
   "execution_count": null,
   "id": "b5147fae",
   "metadata": {},
   "outputs": [],
   "source": [
    "try:\n",
    "    response = redshift.create_cluster(\n",
    "    ClusterType=DWH_CLUSTER_TYPE,\n",
    "    NodeType=DWH_NODE_TYPE,\n",
    "    \n",
    "    DBName=DWH_DB,\n",
    "    ClusterIdentifier=DWH_CLUSTER_IDENTIFIER,\n",
    "    MasterUsername=DWH_DB_USER,\n",
    "    MasterUserPassword=DWH_DB_PASSWORD,\n",
    "        \n",
    "    IamRoles=[roleArn]\n",
    "    \n",
    "    )\n",
    "except Exception as e:\n",
    "    print(e)"
   ]
  },
  {
   "cell_type": "code",
   "execution_count": null,
   "id": "8bd3f5ea",
   "metadata": {},
   "outputs": [],
   "source": [
    "redshift.describe_clusters(ClusterIdentifier=DWH_CLUSTER_IDENTIFIER)"
   ]
  },
  {
   "cell_type": "code",
   "execution_count": null,
   "id": "cc64d588",
   "metadata": {},
   "outputs": [],
   "source": [
    "def redshiftProps(props):\n",
    "    pd.set_option('display.max_colwidth', -1)\n",
    "    keys=[\"ClusterIdentifier\",\"NodeType\",\"ClusterStatus\",\"MasterUsername\",\"DBName\",\"Endpoint\",\"VpcId\"]\n",
    "    x = [(k,v) for k,v in props.items() if k in keys]\n",
    "    return pd.DataFrame(data=x, columns=[\"Key\",\"Value\"])\n",
    "\n",
    "clusterProp = redshift.describe_clusters(ClusterIdentifier=DWH_CLUSTER_IDENTIFIER)['Clusters'][0]\n",
    "redshiftProps(clusterProp)"
   ]
  },
  {
   "cell_type": "code",
   "execution_count": null,
   "id": "3455d80c",
   "metadata": {},
   "outputs": [],
   "source": [
    "DWH_ENDPOINT = clusterProp['Endpoint']['Address']\n",
    "DWH_ROLE_ARN = clusterProp['IamRoles'][0]['IamRoleArn']\n",
    "DBNAME = clusterProp['DBName']\n",
    "DB_USER = clusterProp['MasterUsername']"
   ]
  },
  {
   "cell_type": "code",
   "execution_count": null,
   "id": "c23fa466",
   "metadata": {},
   "outputs": [],
   "source": [
    "try:\n",
    "    vpc = ec2.Vpc(id=clusterProp['VpcId'])\n",
    "    defaultSG = list(vpc.security_groups.all())[0]\n",
    "    print(defaultSG)\n",
    "    \n",
    "    defaultSG.authorize_ingress(\n",
    "    GroupName=defaultSG.group_name,\n",
    "    CidrIp='0.0.0.0/0',\n",
    "    IpProtocol='TCP',\n",
    "    FromPort=int(DWH_DB_PORT),\n",
    "    ToPort=int(DWH_DB_PORT))\n",
    "except Exception as e:\n",
    "    print(e)"
   ]
  },
  {
   "cell_type": "code",
   "execution_count": null,
   "id": "46d97e37",
   "metadata": {},
   "outputs": [],
   "source": [
    "try:\n",
    "    conn = psycopg2.connect(host=DWH_ENDPOINT, dbname=DBNAME, user=DB_USER, password=DWH_DB_PASSWORD, port=DWH_DB_PORT)\n",
    "    conn.set_session(autocommit=True)\n",
    "    cur = conn.cursor()\n",
    "except psycopg2.Error as e:\n",
    "    print(e)"
   ]
  },
  {
   "cell_type": "code",
   "execution_count": null,
   "id": "ef574261",
   "metadata": {},
   "outputs": [],
   "source": [
    "try:\n",
    "    cur.execute(\"\"\"create table users(\n",
    "    userid integer not null distkey sortkey,\n",
    "    username char(8),\n",
    "    firstname varchar(30),\n",
    "    lastname varchar(30),\n",
    "    city varchar(30),\n",
    "    state char(2),\n",
    "    email varchar(100),\n",
    "    phone char(14),\n",
    "    likesports boolean,\n",
    "    liketheatre boolean,\n",
    "    likeconcerts boolean,\n",
    "    likejazz boolean,\n",
    "    likeclassical boolean,\n",
    "    likeopera boolean,\n",
    "    likerock boolean,\n",
    "    likevegas boolean,\n",
    "    likebroadway boolean,\n",
    "    likemusicals boolean\n",
    "    );\n",
    "    \"\"\")\n",
    "except psycopg2.Error as e:\n",
    "    print(e)"
   ]
  },
  {
   "cell_type": "code",
   "execution_count": null,
   "id": "40a23d88",
   "metadata": {},
   "outputs": [],
   "source": [
    "try:\n",
    "    cur.execute(\"\"\"create table venue(\n",
    "    venueid smallint not null distkey sortkey,\n",
    "    venuename varchar(100),\n",
    "    venuecity varchar(30),\n",
    "    veneustate char(2),\n",
    "    venueseats integer\n",
    "    );\n",
    "    \"\"\")\n",
    "except psycopg2.Error as e:\n",
    "    print(e)"
   ]
  },
  {
   "cell_type": "code",
   "execution_count": null,
   "id": "1d8ab8ed",
   "metadata": {},
   "outputs": [],
   "source": [
    "try:\n",
    "    cur.execute(\"\"\"create table category(\n",
    "    catid smallint not null distkey sortkey,\n",
    "    catgroup varchar(10),\n",
    "    catname varchar(10),\n",
    "    catdesc varchar(20)\n",
    "    );\n",
    "    \n",
    "    create table date(\n",
    "    dateid smallint not null distkey sortkey,\n",
    "    caldate date not null,\n",
    "    day char(3) not null,\n",
    "    week smallint not null,\n",
    "    month char(5) not null,\n",
    "    qtr char(5) not null,\n",
    "    year smallint not null,\n",
    "    holiday boolean default('N')\n",
    "    );\n",
    "    \"\"\")\n",
    "except psycopg2.Error as e:\n",
    "    print(e)"
   ]
  },
  {
   "cell_type": "code",
   "execution_count": null,
   "id": "d0943c0c",
   "metadata": {},
   "outputs": [],
   "source": [
    "try:\n",
    "    cur.execute(\"\"\"\n",
    "    copy users from 's3://dexter-redshift/allusers_pipe.txt'\n",
    "    credentials 'aws_iam_role=arn:aws:iam::136178993549:role/redshift-s3'\n",
    "    delimiter '|'\n",
    "    region 'ap-south-1'\n",
    "    \"\"\")\n",
    "except psycopg2.Error as e:\n",
    "    print(e)"
   ]
  },
  {
   "cell_type": "code",
   "execution_count": null,
   "id": "a890fb19",
   "metadata": {},
   "outputs": [],
   "source": [
    "try:\n",
    "    cur.execute(\"\"\"\n",
    "    copy venue from 's3://dexter-redshift/venue_pipe.txt'\n",
    "    credentials 'aws_iam_role=arn:aws:iam::136178993549:role/redshift-s3'\n",
    "    delimiter '|'\n",
    "    region 'ap-south-1'\n",
    "    \"\"\")\n",
    "except psycopg2.Error as e:\n",
    "    print(e)"
   ]
  },
  {
   "cell_type": "code",
   "execution_count": null,
   "id": "17ef99f4",
   "metadata": {},
   "outputs": [],
   "source": [
    "try:\n",
    "    cur.execute(\"\"\"\n",
    "    copy category from 's3://dexter-redshift/category_pipe.txt'\n",
    "    credentials 'aws_iam_role=arn:aws:iam::136178993549:role/redshift-s3'\n",
    "    delimiter '|'\n",
    "    region 'ap-south-1'\n",
    "    \"\"\")\n",
    "except psycopg2.Error as e:\n",
    "    print(e)"
   ]
  },
  {
   "cell_type": "code",
   "execution_count": null,
   "id": "c468a2c8",
   "metadata": {},
   "outputs": [],
   "source": [
    "try:\n",
    "    cur.execute(\"\"\"\n",
    "    copy date from 's3://dexter-redshift/date2008_pipe.txt'\n",
    "    credentials 'aws_iam_role=arn:aws:iam::136178993549:role/redshift-s3'\n",
    "    delimiter '|'\n",
    "    region 'ap-south-1'\n",
    "    \"\"\")\n",
    "except psycopg2.Error as e:\n",
    "    print(e)"
   ]
  },
  {
   "cell_type": "code",
   "execution_count": null,
   "id": "7282a5de",
   "metadata": {},
   "outputs": [],
   "source": [
    "try:\n",
    "    cur.execute(\"\"\"\n",
    "    select * from users;\n",
    "    \"\"\")\n",
    "except psycopg2.Error as e:\n",
    "    print(e)"
   ]
  },
  {
   "cell_type": "code",
   "execution_count": null,
   "id": "069efafc",
   "metadata": {},
   "outputs": [],
   "source": [
    "row = cur.fetchone()\n",
    "print(row)"
   ]
  },
  {
   "cell_type": "code",
   "execution_count": null,
   "id": "7156d0ae",
   "metadata": {},
   "outputs": [],
   "source": [
    "try:\n",
    "    conn.close()\n",
    "except psycopg2.Error as e:\n",
    "    print(e)"
   ]
  },
  {
   "cell_type": "code",
   "execution_count": null,
   "id": "695f87e8",
   "metadata": {},
   "outputs": [],
   "source": [
    "redshift.delete_cluster(ClusterIdentifier=DWH_CLUSTER_IDENTIFIER, SkipFinalClusterSnapshot=True)"
   ]
  }
 ],
 "metadata": {
  "kernelspec": {
   "display_name": "Python 3 (ipykernel)",
   "language": "python",
   "name": "python3"
  },
  "language_info": {
   "codemirror_mode": {
    "name": "ipython",
    "version": 3
   },
   "file_extension": ".py",
   "mimetype": "text/x-python",
   "name": "python",
   "nbconvert_exporter": "python",
   "pygments_lexer": "ipython3",
   "version": "3.11.1"
  }
 },
 "nbformat": 4,
 "nbformat_minor": 5
}
